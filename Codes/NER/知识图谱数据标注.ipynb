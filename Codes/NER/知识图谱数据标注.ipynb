{
 "cells": [
  {
   "cell_type": "code",
   "execution_count": 1,
   "metadata": {},
   "outputs": [],
   "source": [
    "# 预训练模型GLoVE \n",
    "import json\n",
    "import pandas as pd\n",
    "file = open('rlims.pmc.json')\n",
    "data = file.read()\n",
    "json_data = json.dumps(data)\n",
    "data = json.loads(json_data)\n",
    "df_pmc = pd.read_json('rlims.pmc.json',lines=True)\n",
    "'''\n",
    "设置实体类型标签\n",
    "B_Protein蛋白质标签\n",
    "B_Trigger触发器标签\n",
    "'''\n",
    "tag2id = {\n",
    "    'O':1,\n",
    "    'B_Protein':2,\n",
    "    'B_Site':3,\n",
    "    'B_SiteOther':4,\n",
    "    'B_Trigger':5\n",
    "}"
   ]
  },
  {
   "cell_type": "code",
   "execution_count": 8,
   "metadata": {},
   "outputs": [
    {
     "data": {
      "text/html": [
       "<div>\n",
       "<style scoped>\n",
       "    .dataframe tbody tr th:only-of-type {\n",
       "        vertical-align: middle;\n",
       "    }\n",
       "\n",
       "    .dataframe tbody tr th {\n",
       "        vertical-align: top;\n",
       "    }\n",
       "\n",
       "    .dataframe thead th {\n",
       "        text-align: right;\n",
       "    }\n",
       "</style>\n",
       "<table border=\"1\" class=\"dataframe\">\n",
       "  <thead>\n",
       "    <tr style=\"text-align: right;\">\n",
       "      <th></th>\n",
       "      <th>_id</th>\n",
       "      <th>article_type</th>\n",
       "      <th>docId</th>\n",
       "      <th>entity</th>\n",
       "      <th>fig_id</th>\n",
       "      <th>fig_lable</th>\n",
       "      <th>id</th>\n",
       "      <th>parent</th>\n",
       "      <th>pmcid</th>\n",
       "      <th>pmid</th>\n",
       "      <th>relation</th>\n",
       "      <th>sec_type</th>\n",
       "      <th>sentence</th>\n",
       "      <th>table_id</th>\n",
       "      <th>table_lable</th>\n",
       "      <th>text</th>\n",
       "      <th>title_offset</th>\n",
       "      <th>type</th>\n",
       "      <th>xml_sec_type</th>\n",
       "    </tr>\n",
       "  </thead>\n",
       "  <tbody>\n",
       "    <tr>\n",
       "      <th>0</th>\n",
       "      <td>{'$oid': '5bb1845bb5e292a71605ac5c'}</td>\n",
       "      <td>research-article</td>\n",
       "      <td>PMC3062564-36</td>\n",
       "      <td>{'RL:k78d': {'duid': 'RL:k78d', 'attribute': [...</td>\n",
       "      <td>NaN</td>\n",
       "      <td>NaN</td>\n",
       "      <td>36</td>\n",
       "      <td>[22.0, 35.0]</td>\n",
       "      <td>PMC3062564</td>\n",
       "      <td>21445358</td>\n",
       "      <td>{'RL:tN3x': {'relationType': 'PHOSPHORYLATION'...</td>\n",
       "      <td>results</td>\n",
       "      <td>[{'charStart': 0, 'charEnd': 139, 'index': 0},...</td>\n",
       "      <td>NaN</td>\n",
       "      <td>NaN</td>\n",
       "      <td>To further confirm the role of c-Src in PDGF-i...</td>\n",
       "      <td>NaN</td>\n",
       "      <td>P</td>\n",
       "      <td>NaN</td>\n",
       "    </tr>\n",
       "    <tr>\n",
       "      <th>1</th>\n",
       "      <td>{'$oid': '5bb1845bb5e292a71605ac5f'}</td>\n",
       "      <td>research-article</td>\n",
       "      <td>PMC3520975-49</td>\n",
       "      <td>{'RL:XfTu': {'duid': 'RL:XfTu', 'attribute': [...</td>\n",
       "      <td>NaN</td>\n",
       "      <td>NaN</td>\n",
       "      <td>49</td>\n",
       "      <td>[31.0, 46.0]</td>\n",
       "      <td>PMC3520975</td>\n",
       "      <td>23251458</td>\n",
       "      <td>{'RL:Fz92': {'relationType': 'PHOSPHORYLATION'...</td>\n",
       "      <td>results</td>\n",
       "      <td>[{'charStart': 0, 'charEnd': 70, 'index': 0}, ...</td>\n",
       "      <td>NaN</td>\n",
       "      <td>NaN</td>\n",
       "      <td>We then examined whether stimulating α7-nAChR ...</td>\n",
       "      <td>NaN</td>\n",
       "      <td>P</td>\n",
       "      <td>NaN</td>\n",
       "    </tr>\n",
       "  </tbody>\n",
       "</table>\n",
       "</div>"
      ],
      "text/plain": [
       "                                    _id      article_type          docId  \\\n",
       "0  {'$oid': '5bb1845bb5e292a71605ac5c'}  research-article  PMC3062564-36   \n",
       "1  {'$oid': '5bb1845bb5e292a71605ac5f'}  research-article  PMC3520975-49   \n",
       "\n",
       "                                              entity fig_id fig_lable  id  \\\n",
       "0  {'RL:k78d': {'duid': 'RL:k78d', 'attribute': [...    NaN       NaN  36   \n",
       "1  {'RL:XfTu': {'duid': 'RL:XfTu', 'attribute': [...    NaN       NaN  49   \n",
       "\n",
       "         parent       pmcid      pmid  \\\n",
       "0  [22.0, 35.0]  PMC3062564  21445358   \n",
       "1  [31.0, 46.0]  PMC3520975  23251458   \n",
       "\n",
       "                                            relation sec_type  \\\n",
       "0  {'RL:tN3x': {'relationType': 'PHOSPHORYLATION'...  results   \n",
       "1  {'RL:Fz92': {'relationType': 'PHOSPHORYLATION'...  results   \n",
       "\n",
       "                                            sentence table_id table_lable  \\\n",
       "0  [{'charStart': 0, 'charEnd': 139, 'index': 0},...      NaN         NaN   \n",
       "1  [{'charStart': 0, 'charEnd': 70, 'index': 0}, ...      NaN         NaN   \n",
       "\n",
       "                                                text title_offset type  \\\n",
       "0  To further confirm the role of c-Src in PDGF-i...          NaN    P   \n",
       "1  We then examined whether stimulating α7-nAChR ...          NaN    P   \n",
       "\n",
       "  xml_sec_type  \n",
       "0          NaN  \n",
       "1          NaN  "
      ]
     },
     "execution_count": 8,
     "metadata": {},
     "output_type": "execute_result"
    }
   ],
   "source": [
    "df_pmc.head(2)"
   ]
  },
  {
   "cell_type": "code",
   "execution_count": 20,
   "metadata": {},
   "outputs": [
    {
     "name": "stdout",
     "output_type": "stream",
     "text": [
      "phosphorylation\n",
      "Trigger\n",
      "Smad1\n",
      "Protein\n"
     ]
    }
   ],
   "source": [
    "# for item in df_pmc.itertuples():\n",
    "#     entity = item.entity\n",
    "#     sentences = item.sentence\n",
    "#     text = item.text\n",
    "#     for i in entity:\n",
    "#         a = entity[i]\n",
    "#         entityType = a['entityType']\n",
    "#         entityText = a['entityText']\n",
    "#         print(entityText)\n",
    "#         print(entityType)\n",
    "#     break"
   ]
  },
  {
   "cell_type": "code",
   "execution_count": 126,
   "metadata": {},
   "outputs": [
    {
     "data": {
      "text/plain": [
       "{'phosphorylation': 'Trigger', 'Smad1': 'Protein'}"
      ]
     },
     "execution_count": 126,
     "metadata": {},
     "output_type": "execute_result"
    }
   ],
   "source": [
    "# text_type"
   ]
  },
  {
   "cell_type": "code",
   "execution_count": 82,
   "metadata": {},
   "outputs": [],
   "source": [
    "import keras\n",
    "from keras.preprocessing import text as T\n",
    "vectorizer = T.Tokenizer(lower=False,split=\n",
    "' ',num_words=None,char_level=False,filters=',.')\n",
    "#对文本进行词典解析\n",
    "document_after = df_pmc['text'].values\n",
    "vectorizer.fit_on_texts(document_after)\n",
    "text_sequences = vectorizer.texts_to_sequences(document_after)\n",
    "#id词对应表\n",
    "word_index = vectorizer.word_index\n",
    "index_word = vectorizer.index_word\n",
    "word_index[' '] = 0\n",
    "index_word[0] = ' '\n",
    "#词典数目\n",
    "word_vec = len(index_word)"
   ]
  },
  {
   "cell_type": "code",
   "execution_count": 83,
   "metadata": {},
   "outputs": [],
   "source": [
    "from keras.preprocessing import sequence\n",
    "#设置input_length为2000\n",
    "max_len = 2000\n",
    "#对数据进行补齐操作\n",
    "text_sequences_padded = sequence.pad_sequences(text_sequences, maxlen=max_len)"
   ]
  },
  {
   "cell_type": "code",
   "execution_count": 97,
   "metadata": {},
   "outputs": [],
   "source": [
    "shape = text_sequences_padded.shape"
   ]
  },
  {
   "cell_type": "code",
   "execution_count": 255,
   "metadata": {},
   "outputs": [],
   "source": [
    "def set_type(_type):\n",
    "    if _type=='Protein':\n",
    "        value = 2\n",
    "    elif _type=='Trigger':\n",
    "        value = 5\n",
    "    elif _type=='SiteOther':\n",
    "        value = 4\n",
    "    elif _type=='Site':\n",
    "        value = 3\n",
    "    else:\n",
    "        value = 1\n",
    "    return value\n",
    "#对数据中文本的每个单词进行进行标注用作训练数据\n",
    "y = np.ones((text_sequences_padded.shape[0],2000))\n",
    "for i,line in enumerate(text_sequences_padded):\n",
    "    entitys = df_pmc.loc[i,'entity']\n",
    "    text_type = {}\n",
    "    for entity in entitys:\n",
    "        a = entitys[entity]\n",
    "        entityType = a['entityType']\n",
    "        entityText = a['entityText']\n",
    "        text_type[entityText] = entityType\n",
    "    for j,key in enumerate(list(line)):\n",
    "        if index_word[key] in text_type.keys():\n",
    "            type_value = text_type[index_word[key]]\n",
    "            value = set_type(type_value)\n",
    "            y[i,j] = value\n",
    "y = y.astype(np.int)"
   ]
  },
  {
   "cell_type": "code",
   "execution_count": 247,
   "metadata": {},
   "outputs": [
    {
     "name": "stdout",
     "output_type": "stream",
     "text": [
      "WARNING:tensorflow:From /anaconda3/lib/python3.6/site-packages/keras/backend/tensorflow_backend.py:3445: calling dropout (from tensorflow.python.ops.nn_ops) with keep_prob is deprecated and will be removed in a future version.\n",
      "Instructions for updating:\n",
      "Please use `rate` instead of `keep_prob`. Rate should be set to `rate = 1 - keep_prob`.\n"
     ]
    },
    {
     "name": "stderr",
     "output_type": "stream",
     "text": [
      "/anaconda3/lib/python3.6/site-packages/keras_contrib/layers/crf.py:346: UserWarning: CRF.loss_function is deprecated and it might be removed in the future. Please use losses.crf_loss instead.\n",
      "  warnings.warn('CRF.loss_function is deprecated '\n",
      "/anaconda3/lib/python3.6/site-packages/keras_contrib/layers/crf.py:353: UserWarning: CRF.accuracy is deprecated and it might be removed in the future. Please use metrics.crf_accuracy\n",
      "  warnings.warn('CRF.accuracy is deprecated and it '\n"
     ]
    },
    {
     "name": "stdout",
     "output_type": "stream",
     "text": [
      "_________________________________________________________________\n",
      "Layer (type)                 Output Shape              Param #   \n",
      "=================================================================\n",
      "embedding_18 (Embedding)     (None, 2000, 200)         126808200 \n",
      "_________________________________________________________________\n",
      "bidirectional_11 (Bidirectio (None, 2000, 20)          35360     \n",
      "_________________________________________________________________\n",
      "dropout_1 (Dropout)          (None, 2000, 20)          0         \n",
      "_________________________________________________________________\n",
      "time_distributed_3 (TimeDist (None, 2000, 5)           105       \n",
      "_________________________________________________________________\n",
      "dropout_2 (Dropout)          (None, 2000, 5)           0         \n",
      "_________________________________________________________________\n",
      "crf_4 (CRF)                  (None, 2000, 5)           65        \n",
      "=================================================================\n",
      "Total params: 126,843,730\n",
      "Trainable params: 126,843,730\n",
      "Non-trainable params: 0\n",
      "_________________________________________________________________\n"
     ]
    }
   ],
   "source": [
    "#建立简单的bilstm+crf模型\n",
    "max_features = word_vec\n",
    "embedding_dims = 200\n",
    "sentence_length = 2000\n",
    "NUM_CLASS = 5\n",
    "DROPOUT_RATE = 0.5\n",
    "from keras.models import *\n",
    "from keras.layers import *\n",
    "from keras_contrib.layers.crf import CRF\n",
    "model = Sequential()\n",
    "model.add(Embedding(max_features,\n",
    "                    embedding_dims,\n",
    "                    input_length=sentence_length))\n",
    "model.add(Bidirectional(LSTM(20,return_sequences=True),merge_mode='sum'))\n",
    "model.add(Dropout(DROPOUT_RATE))\n",
    "model.add(TimeDistributed(Dense(NUM_CLASS)))\n",
    "model.add(Dropout(DROPOUT_RATE))\n",
    "#NUM_CLASS为标签数目\n",
    "crf_layer = CRF(NUM_CLASS)\n",
    "model.add(crf_layer)\n",
    "model.compile('rmsprop', loss=crf_layer.loss_function, metrics=[crf_layer.accuracy])\n",
    "model.summary()"
   ]
  },
  {
   "cell_type": "code",
   "execution_count": 256,
   "metadata": {},
   "outputs": [],
   "source": [
    "#对输出进行Embedding操作\n",
    "def Get_Embendding(y):\n",
    "    results = np.zeros((y.shape[0],y.shape[1],5))\n",
    "    for i,line in enumerate(y):\n",
    "        result = np.zeros((y.shape[1],5))\n",
    "        for j,key in enumerate(list(line)):\n",
    "            result[j,key-1] = 1\n",
    "        results[i] = result\n",
    "    return results\n",
    "y_embendding = Get_Embendding(y)"
   ]
  },
  {
   "cell_type": "code",
   "execution_count": 258,
   "metadata": {},
   "outputs": [],
   "source": [
    "from sklearn.model_selection import train_test_split\n",
    "x_train,x_test,y_train,y_test = train_test_split(text_sequences_padded,y_embendding,test_size=0.3,random_state=1)"
   ]
  },
  {
   "cell_type": "code",
   "execution_count": 261,
   "metadata": {},
   "outputs": [
    {
     "name": "stdout",
     "output_type": "stream",
     "text": [
      "Epoch 1/3\n",
      "116035/116035 [==============================] - 4292s 37ms/step - loss: 0.0084 - crf_viterbi_accuracy: 0.9979\n",
      "Epoch 2/3\n",
      "116035/116035 [==============================] - 4236s 37ms/step - loss: 0.0069 - crf_viterbi_accuracy: 0.9979\n",
      "Epoch 3/3\n",
      "116035/116035 [==============================] - 4241s 37ms/step - loss: 0.0064 - crf_viterbi_accuracy: 0.9980\n"
     ]
    },
    {
     "data": {
      "text/plain": [
       "<keras.callbacks.History at 0x190118358>"
      ]
     },
     "execution_count": 261,
     "metadata": {},
     "output_type": "execute_result"
    }
   ],
   "source": [
    "model.fit(x_train,y_train,batch_size=200,epochs=3)"
   ]
  },
  {
   "cell_type": "code",
   "execution_count": 262,
   "metadata": {},
   "outputs": [
    {
     "name": "stdout",
     "output_type": "stream",
     "text": [
      "49730/49730 [==============================] - 1160s 23ms/step\n"
     ]
    },
    {
     "data": {
      "text/plain": [
       "[0.003318004564070041, 0.9986003805160906]"
      ]
     },
     "execution_count": 262,
     "metadata": {},
     "output_type": "execute_result"
    }
   ],
   "source": [
    "model.evaluate(x_test,y_test)"
   ]
  },
  {
   "cell_type": "code",
   "execution_count": 264,
   "metadata": {},
   "outputs": [],
   "source": [
    "#简易的测试\n",
    "prediction = model.predict_classes(x_test[:2])"
   ]
  },
  {
   "cell_type": "code",
   "execution_count": 275,
   "metadata": {},
   "outputs": [
    {
     "data": {
      "text/plain": [
       "1891"
      ]
     },
     "execution_count": 275,
     "metadata": {},
     "output_type": "execute_result"
    }
   ],
   "source": [
    "np.argmax([i for i in prediction[1]])"
   ]
  },
  {
   "cell_type": "code",
   "execution_count": 276,
   "metadata": {},
   "outputs": [
    {
     "data": {
      "text/plain": [
       "'phosphorylation'"
      ]
     },
     "execution_count": 276,
     "metadata": {},
     "output_type": "execute_result"
    }
   ],
   "source": [
    "index_word[x_test[1][1891]]"
   ]
  },
  {
   "cell_type": "code",
   "execution_count": 279,
   "metadata": {},
   "outputs": [
    {
     "data": {
      "text/plain": [
       "'                                                                                                                                                                                                                                                                                                                                                                                                                                                                                                                                                                                                                                                                                                                                                                                                                                                                                                                                                                                                                                                                                                                                                                                                                                                                                                                                                                                                                                                                                                                                                                                                                                                                                                                                                                                                                                                                                                                                                                                                                                                                                                                                                                                                                                                                                                                                                                                                                                                                                                                                                                                                                                                                                                                                                                                                                                                                                                                                                                                                                                                                                                                                                                                                                                                                                                                                                                                                                                                                                                                                                                                                                                                                                                                                                                                                                                                                        To identify which pathway regulates NDRG2-mediated GATA-1 expression U937-NDRG2 cells were pre-treated with a JAK2 inhibitor (AG490) a BMP-4 antagonist (Noggin) or a Smad1/5/8 inhibitor (dorsomorphin) As shown in Fig 5A phosphorylation of JAK2 was suppressed by AG490 treatment in U937-NDRG2 cells Phosphorylation of Smad1/5/8 was not significantly altered by JAK2 inhibition in U937-NDRG2 cells Importantly PMA-induced GATA-1 expression was inhibited by pre-treatment with AG490 in U937-NDRG2 cells PMA-induced Smad1/5/8 phosphorylation was decreased by pre-treatment with dorsomorphin (DM) or noggin (Fig 5B and C) Phosphorylation of JAK2 was not regulated by treatment with dorsomorphin or noggin Interestingly PMA-induced GATA-1 expression was not inhibited by pre-treatment with DM or noggin in U937-NDRG2 cells Together these data suggest that NDRG2 increases GATA-1 expression through the regulation of the JAK2/STAT pathway but not through regulation of the BMP-4/Smad1/5/8 pathway in response to PMA'"
      ]
     },
     "execution_count": 279,
     "metadata": {},
     "output_type": "execute_result"
    }
   ],
   "source": [
    "' '.join([index_word[i] for i in x_test[1]])"
   ]
  },
  {
   "cell_type": "code",
   "execution_count": 280,
   "metadata": {},
   "outputs": [],
   "source": [
    "model.save('model.h5')"
   ]
  },
  {
   "cell_type": "code",
   "execution_count": null,
   "metadata": {},
   "outputs": [],
   "source": []
  }
 ],
 "metadata": {
  "kernelspec": {
   "display_name": "Python 3",
   "language": "python",
   "name": "python3"
  },
  "language_info": {
   "codemirror_mode": {
    "name": "ipython",
    "version": 3
   },
   "file_extension": ".py",
   "mimetype": "text/x-python",
   "name": "python",
   "nbconvert_exporter": "python",
   "pygments_lexer": "ipython3",
   "version": "3.6.5"
  }
 },
 "nbformat": 4,
 "nbformat_minor": 2
}
